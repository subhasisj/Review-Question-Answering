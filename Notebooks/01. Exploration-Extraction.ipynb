{
 "cells": [
  {
   "cell_type": "markdown",
   "metadata": {},
   "source": [
    "## Intro"
   ]
  },
  {
   "cell_type": "markdown",
   "metadata": {},
   "source": [
    "To build our QA system, we’ll use the SubjQA dataset which consists of more than 10,000 customer reviews in English about products and services in six domains: TripAdvisor, Restaurants, Movies, Books, Electronics, and Grocery. Each review is associated with a question that can be answered using one or more sentences from the review."
   ]
  },
  {
   "cell_type": "code",
   "execution_count": 1,
   "metadata": {},
   "outputs": [
    {
     "name": "stderr",
     "output_type": "stream",
     "text": [
      "Couldn't find file locally at subjqa\\subjqa.py, or remotely at https://raw.githubusercontent.com/huggingface/datasets/1.6.2/datasets/subjqa/subjqa.py.\n",
      "The file was picked from the master branch on github instead at https://raw.githubusercontent.com/huggingface/datasets/master/datasets/subjqa/subjqa.py.\n",
      "Reusing dataset subjqa (C:\\Users\\Subha\\.cache\\huggingface\\datasets\\subjqa\\electronics\\1.1.0\\e5588f9298ff2d70686a00cc377e4bdccf4e32287459e3c6baf2dc5ab57fe7fd)\n"
     ]
    }
   ],
   "source": [
    "import pandas as pd\n",
    "from datasets import load_dataset\n",
    "\n",
    "subjqa_dataset = load_dataset('subjqa',\"electronics\")\n",
    "subjqa_dataset.set_format(\"pandas\")"
   ]
  },
  {
   "cell_type": "code",
   "execution_count": 2,
   "metadata": {},
   "outputs": [],
   "source": [
    "dfs = {split: ds[:] for split,ds in subjqa_dataset.flatten().items()}"
   ]
  },
  {
   "cell_type": "code",
   "execution_count": 3,
   "metadata": {},
   "outputs": [
    {
     "data": {
      "text/html": [
       "<div>\n",
       "<style scoped>\n",
       "    .dataframe tbody tr th:only-of-type {\n",
       "        vertical-align: middle;\n",
       "    }\n",
       "\n",
       "    .dataframe tbody tr th {\n",
       "        vertical-align: top;\n",
       "    }\n",
       "\n",
       "    .dataframe thead th {\n",
       "        text-align: right;\n",
       "    }\n",
       "</style>\n",
       "<table border=\"1\" class=\"dataframe\">\n",
       "  <thead>\n",
       "    <tr style=\"text-align: right;\">\n",
       "      <th></th>\n",
       "      <th>answers.ans_subj_score</th>\n",
       "      <th>answers.answer_start</th>\n",
       "      <th>answers.answer_subj_level</th>\n",
       "      <th>answers.is_ans_subjective</th>\n",
       "      <th>answers.text</th>\n",
       "      <th>context</th>\n",
       "      <th>domain</th>\n",
       "      <th>id</th>\n",
       "      <th>is_ques_subjective</th>\n",
       "      <th>nn_asp</th>\n",
       "      <th>nn_mod</th>\n",
       "      <th>q_reviews_id</th>\n",
       "      <th>query_asp</th>\n",
       "      <th>query_mod</th>\n",
       "      <th>ques_subj_score</th>\n",
       "      <th>question</th>\n",
       "      <th>question_subj_level</th>\n",
       "      <th>review_id</th>\n",
       "      <th>title</th>\n",
       "    </tr>\n",
       "  </thead>\n",
       "  <tbody>\n",
       "    <tr>\n",
       "      <th>0</th>\n",
       "      <td>[]</td>\n",
       "      <td>[]</td>\n",
       "      <td>[]</td>\n",
       "      <td>[]</td>\n",
       "      <td>[]</td>\n",
       "      <td>I have had Koss headphones in the past, Pro 4A...</td>\n",
       "      <td>electronics</td>\n",
       "      <td>2543d296da9766d8d17d040ecc781699</td>\n",
       "      <td>False</td>\n",
       "      <td>bass response</td>\n",
       "      <td>great</td>\n",
       "      <td>0514ee34b672623dff659334a25b599b</td>\n",
       "      <td>bass</td>\n",
       "      <td>excellent</td>\n",
       "      <td>0.50</td>\n",
       "      <td>How is the bass?</td>\n",
       "      <td>5</td>\n",
       "      <td>882b1e2745a4779c8f17b3d4406b91c7</td>\n",
       "      <td>B00001P4ZH</td>\n",
       "    </tr>\n",
       "    <tr>\n",
       "      <th>1</th>\n",
       "      <td>[0.5083333, 0.5083333]</td>\n",
       "      <td>[1302, 1302]</td>\n",
       "      <td>[1, 1]</td>\n",
       "      <td>[True, True]</td>\n",
       "      <td>[Bass is weak as expected, Bass is weak as exp...</td>\n",
       "      <td>To anyone who hasn't tried all the various typ...</td>\n",
       "      <td>electronics</td>\n",
       "      <td>d476830bf9282e2b9033e2bb44bbb995</td>\n",
       "      <td>False</td>\n",
       "      <td>high</td>\n",
       "      <td>harsh</td>\n",
       "      <td>7c46670208f7bf5497480fbdbb44561a</td>\n",
       "      <td>bass</td>\n",
       "      <td>not strong</td>\n",
       "      <td>0.50</td>\n",
       "      <td>Is this music song have a goo bass?</td>\n",
       "      <td>1</td>\n",
       "      <td>ce76793f036494eabe07b33a9a67288a</td>\n",
       "      <td>B00001P4ZH</td>\n",
       "    </tr>\n",
       "    <tr>\n",
       "      <th>2</th>\n",
       "      <td>[0.6333333]</td>\n",
       "      <td>[650]</td>\n",
       "      <td>[2]</td>\n",
       "      <td>[True]</td>\n",
       "      <td>[The only fault in the sound is the bass]</td>\n",
       "      <td>I have had many sub-$100 headphones from $5 Pa...</td>\n",
       "      <td>electronics</td>\n",
       "      <td>455575557886d6dfeea5aa19577e5de4</td>\n",
       "      <td>False</td>\n",
       "      <td>sound</td>\n",
       "      <td>neutral</td>\n",
       "      <td>8fbf26792c438aa83178c2d507af5d77</td>\n",
       "      <td>bass</td>\n",
       "      <td>present</td>\n",
       "      <td>0.50</td>\n",
       "      <td>How is the bass?</td>\n",
       "      <td>1</td>\n",
       "      <td>d040f2713caa2aff0ce95affb40e12c2</td>\n",
       "      <td>B00001P4ZH</td>\n",
       "    </tr>\n",
       "    <tr>\n",
       "      <th>3</th>\n",
       "      <td>[0.3]</td>\n",
       "      <td>[1609]</td>\n",
       "      <td>[1]</td>\n",
       "      <td>[False]</td>\n",
       "      <td>[the best of all of them]</td>\n",
       "      <td>My sister's Bose headphones finally died and s...</td>\n",
       "      <td>electronics</td>\n",
       "      <td>6895a59b470d8feee0f39da6c53a92e5</td>\n",
       "      <td>False</td>\n",
       "      <td>bass</td>\n",
       "      <td>muddy</td>\n",
       "      <td>9876fd06ed8f075fcad70d1e30e7e8be</td>\n",
       "      <td>bass</td>\n",
       "      <td>awesome</td>\n",
       "      <td>0.50</td>\n",
       "      <td>How is the audio bass?</td>\n",
       "      <td>1</td>\n",
       "      <td>043e7162df91f6ea916c790c8a6f6b22</td>\n",
       "      <td>B00001WRSJ</td>\n",
       "    </tr>\n",
       "    <tr>\n",
       "      <th>4</th>\n",
       "      <td>[0.40833333, 0.40833333]</td>\n",
       "      <td>[141, 38]</td>\n",
       "      <td>[1, 1]</td>\n",
       "      <td>[False, False]</td>\n",
       "      <td>[The sound is so crisp, crazy obsession with s...</td>\n",
       "      <td>Wow. Just wow. I'm a 22 yr old with a crazy ob...</td>\n",
       "      <td>electronics</td>\n",
       "      <td>7a2173c502da97c5bd5950eae7cd7430</td>\n",
       "      <td>True</td>\n",
       "      <td>bass</td>\n",
       "      <td>perfect</td>\n",
       "      <td>16506b53e2d4c2b6a65881d9462256c2</td>\n",
       "      <td>sound</td>\n",
       "      <td>incredible</td>\n",
       "      <td>0.65</td>\n",
       "      <td>Why do I have an incredible sound?</td>\n",
       "      <td>1</td>\n",
       "      <td>29ccd7e690050e2951be49289e915382</td>\n",
       "      <td>B00001WRSJ</td>\n",
       "    </tr>\n",
       "  </tbody>\n",
       "</table>\n",
       "</div>"
      ],
      "text/plain": [
       "     answers.ans_subj_score answers.answer_start answers.answer_subj_level  \\\n",
       "0                        []                   []                        []   \n",
       "1    [0.5083333, 0.5083333]         [1302, 1302]                    [1, 1]   \n",
       "2               [0.6333333]                [650]                       [2]   \n",
       "3                     [0.3]               [1609]                       [1]   \n",
       "4  [0.40833333, 0.40833333]            [141, 38]                    [1, 1]   \n",
       "\n",
       "  answers.is_ans_subjective  \\\n",
       "0                        []   \n",
       "1              [True, True]   \n",
       "2                    [True]   \n",
       "3                   [False]   \n",
       "4            [False, False]   \n",
       "\n",
       "                                        answers.text  \\\n",
       "0                                                 []   \n",
       "1  [Bass is weak as expected, Bass is weak as exp...   \n",
       "2          [The only fault in the sound is the bass]   \n",
       "3                          [the best of all of them]   \n",
       "4  [The sound is so crisp, crazy obsession with s...   \n",
       "\n",
       "                                             context       domain  \\\n",
       "0  I have had Koss headphones in the past, Pro 4A...  electronics   \n",
       "1  To anyone who hasn't tried all the various typ...  electronics   \n",
       "2  I have had many sub-$100 headphones from $5 Pa...  electronics   \n",
       "3  My sister's Bose headphones finally died and s...  electronics   \n",
       "4  Wow. Just wow. I'm a 22 yr old with a crazy ob...  electronics   \n",
       "\n",
       "                                 id  is_ques_subjective         nn_asp  \\\n",
       "0  2543d296da9766d8d17d040ecc781699               False  bass response   \n",
       "1  d476830bf9282e2b9033e2bb44bbb995               False           high   \n",
       "2  455575557886d6dfeea5aa19577e5de4               False          sound   \n",
       "3  6895a59b470d8feee0f39da6c53a92e5               False           bass   \n",
       "4  7a2173c502da97c5bd5950eae7cd7430                True           bass   \n",
       "\n",
       "    nn_mod                      q_reviews_id query_asp   query_mod  \\\n",
       "0    great  0514ee34b672623dff659334a25b599b      bass   excellent   \n",
       "1    harsh  7c46670208f7bf5497480fbdbb44561a      bass  not strong   \n",
       "2  neutral  8fbf26792c438aa83178c2d507af5d77      bass     present   \n",
       "3    muddy  9876fd06ed8f075fcad70d1e30e7e8be      bass     awesome   \n",
       "4  perfect  16506b53e2d4c2b6a65881d9462256c2     sound  incredible   \n",
       "\n",
       "   ques_subj_score                             question  question_subj_level  \\\n",
       "0             0.50                     How is the bass?                    5   \n",
       "1             0.50  Is this music song have a goo bass?                    1   \n",
       "2             0.50                     How is the bass?                    1   \n",
       "3             0.50               How is the audio bass?                    1   \n",
       "4             0.65   Why do I have an incredible sound?                    1   \n",
       "\n",
       "                          review_id       title  \n",
       "0  882b1e2745a4779c8f17b3d4406b91c7  B00001P4ZH  \n",
       "1  ce76793f036494eabe07b33a9a67288a  B00001P4ZH  \n",
       "2  d040f2713caa2aff0ce95affb40e12c2  B00001P4ZH  \n",
       "3  043e7162df91f6ea916c790c8a6f6b22  B00001WRSJ  \n",
       "4  29ccd7e690050e2951be49289e915382  B00001WRSJ  "
      ]
     },
     "execution_count": 3,
     "metadata": {},
     "output_type": "execute_result"
    }
   ],
   "source": [
    "dfs['train'].head()"
   ]
  },
  {
   "cell_type": "code",
   "execution_count": 4,
   "metadata": {},
   "outputs": [
    {
     "name": "stdout",
     "output_type": "stream",
     "text": [
      "Number of questions in train: 1295\n",
      "Number of questions in test: 358\n",
      "Number of questions in validation: 255\n"
     ]
    }
   ],
   "source": [
    "for split, df in dfs.items():\n",
    "    print(f\"Number of questions in {split}: {df['id'].nunique()}\")"
   ]
  },
  {
   "cell_type": "code",
   "execution_count": 5,
   "metadata": {},
   "outputs": [
    {
     "data": {
      "text/plain": [
       "Index(['answers.ans_subj_score', 'answers.answer_start',\n",
       "       'answers.answer_subj_level', 'answers.is_ans_subjective',\n",
       "       'answers.text', 'context', 'domain', 'id', 'is_ques_subjective',\n",
       "       'nn_asp', 'nn_mod', 'q_reviews_id', 'query_asp', 'query_mod',\n",
       "       'ques_subj_score', 'question', 'question_subj_level', 'review_id',\n",
       "       'title'],\n",
       "      dtype='object')"
      ]
     },
     "execution_count": 5,
     "metadata": {},
     "output_type": "execute_result"
    }
   ],
   "source": [
    "dfs['train'].columns"
   ]
  },
  {
   "cell_type": "code",
   "execution_count": 6,
   "metadata": {},
   "outputs": [],
   "source": [
    "qa_cols = [\"title\",\"question\",\"answers.text\",\"answers.answer_start\",\"context\"]"
   ]
  },
  {
   "cell_type": "markdown",
   "metadata": {},
   "source": [
    "### Pull out one example from the train set"
   ]
  },
  {
   "cell_type": "code",
   "execution_count": 7,
   "metadata": {},
   "outputs": [
    {
     "data": {
      "text/html": [
       "<div>\n",
       "<style scoped>\n",
       "    .dataframe tbody tr th:only-of-type {\n",
       "        vertical-align: middle;\n",
       "    }\n",
       "\n",
       "    .dataframe tbody tr th {\n",
       "        vertical-align: top;\n",
       "    }\n",
       "\n",
       "    .dataframe thead th {\n",
       "        text-align: right;\n",
       "    }\n",
       "</style>\n",
       "<table border=\"1\" class=\"dataframe\">\n",
       "  <thead>\n",
       "    <tr style=\"text-align: right;\">\n",
       "      <th></th>\n",
       "      <th>title</th>\n",
       "      <th>question</th>\n",
       "      <th>answers.text</th>\n",
       "      <th>answers.answer_start</th>\n",
       "      <th>context</th>\n",
       "    </tr>\n",
       "  </thead>\n",
       "  <tbody>\n",
       "    <tr>\n",
       "      <th>0</th>\n",
       "      <td>B00001P4ZH</td>\n",
       "      <td>How is the bass?</td>\n",
       "      <td>[]</td>\n",
       "      <td>[]</td>\n",
       "      <td>I have had Koss headphones in the past, Pro 4A...</td>\n",
       "    </tr>\n",
       "    <tr>\n",
       "      <th>1</th>\n",
       "      <td>B00001P4ZH</td>\n",
       "      <td>Is this music song have a goo bass?</td>\n",
       "      <td>[Bass is weak as expected, Bass is weak as exp...</td>\n",
       "      <td>[1302, 1302]</td>\n",
       "      <td>To anyone who hasn't tried all the various typ...</td>\n",
       "    </tr>\n",
       "    <tr>\n",
       "      <th>2</th>\n",
       "      <td>B00001P4ZH</td>\n",
       "      <td>How is the bass?</td>\n",
       "      <td>[The only fault in the sound is the bass]</td>\n",
       "      <td>[650]</td>\n",
       "      <td>I have had many sub-$100 headphones from $5 Pa...</td>\n",
       "    </tr>\n",
       "    <tr>\n",
       "      <th>3</th>\n",
       "      <td>B00001WRSJ</td>\n",
       "      <td>How is the audio bass?</td>\n",
       "      <td>[the best of all of them]</td>\n",
       "      <td>[1609]</td>\n",
       "      <td>My sister's Bose headphones finally died and s...</td>\n",
       "    </tr>\n",
       "    <tr>\n",
       "      <th>4</th>\n",
       "      <td>B00001WRSJ</td>\n",
       "      <td>Why do I have an incredible sound?</td>\n",
       "      <td>[The sound is so crisp, crazy obsession with s...</td>\n",
       "      <td>[141, 38]</td>\n",
       "      <td>Wow. Just wow. I'm a 22 yr old with a crazy ob...</td>\n",
       "    </tr>\n",
       "  </tbody>\n",
       "</table>\n",
       "</div>"
      ],
      "text/plain": [
       "        title                             question  \\\n",
       "0  B00001P4ZH                     How is the bass?   \n",
       "1  B00001P4ZH  Is this music song have a goo bass?   \n",
       "2  B00001P4ZH                     How is the bass?   \n",
       "3  B00001WRSJ               How is the audio bass?   \n",
       "4  B00001WRSJ   Why do I have an incredible sound?   \n",
       "\n",
       "                                        answers.text answers.answer_start  \\\n",
       "0                                                 []                   []   \n",
       "1  [Bass is weak as expected, Bass is weak as exp...         [1302, 1302]   \n",
       "2          [The only fault in the sound is the bass]                [650]   \n",
       "3                          [the best of all of them]               [1609]   \n",
       "4  [The sound is so crisp, crazy obsession with s...            [141, 38]   \n",
       "\n",
       "                                             context  \n",
       "0  I have had Koss headphones in the past, Pro 4A...  \n",
       "1  To anyone who hasn't tried all the various typ...  \n",
       "2  I have had many sub-$100 headphones from $5 Pa...  \n",
       "3  My sister's Bose headphones finally died and s...  \n",
       "4  Wow. Just wow. I'm a 22 yr old with a crazy ob...  "
      ]
     },
     "execution_count": 7,
     "metadata": {},
     "output_type": "execute_result"
    }
   ],
   "source": [
    "dfs['train'][qa_cols].head()"
   ]
  },
  {
   "cell_type": "code",
   "execution_count": 8,
   "metadata": {},
   "outputs": [
    {
     "data": {
      "text/plain": [
       "'Bass is weak as expected'"
      ]
     },
     "execution_count": 8,
     "metadata": {},
     "output_type": "execute_result"
    }
   ],
   "source": [
    "start_idx = dfs['train']['answers.answer_start'].iloc[1][0] #Get Start Index of the second row\n",
    "end_idx = start_idx + len(dfs['train'][\"answers.text\"].iloc[1][0]) \n",
    "\n",
    "dfs['train']['context'].iloc[1][start_idx:end_idx]"
   ]
  },
  {
   "cell_type": "markdown",
   "metadata": {},
   "source": [
    "### Distribution of Questions Types"
   ]
  },
  {
   "cell_type": "code",
   "execution_count": 9,
   "metadata": {},
   "outputs": [
    {
     "data": {
      "image/png": "[encoded data removed]",
      "text/plain": [
       "<Figure size 640x480 with 1 Axes>"
      ]
     },
     "metadata": {},
     "output_type": "display_data"
    }
   ],
   "source": [
    "question_types = [\"What\", \"How\", \"Is\", \"Does\", \"Do\", \"Was\", \"Where\", \"Why\"]\n",
    "\n",
    "# Count the number of rows in dfs that started with question_types and save it in a dictionary\n",
    "question_type_counts = {qt: len(dfs['train'][dfs['train']['question'].str.startswith(qt)]) for qt in question_types}\n",
    "#sort question_type_counts by the number of rows into a dictionary\n",
    "question_type_counts = {qt: count for qt, count in sorted(question_type_counts.items(), key=lambda x: x[1])}\n",
    "# Plot a horizontal bar chart of the question type counts\n",
    "import matplotlib.pyplot as plt\n",
    "plt.title(\"Question Type Counts\")\n",
    "plt.barh(range(len(question_type_counts)), list(question_type_counts.values()), align='center')\n",
    "plt.yticks(range(len(question_type_counts)), list(question_type_counts.keys()))\n",
    "plt.show()\n"
   ]
  },
  {
   "cell_type": "code",
   "execution_count": 10,
   "metadata": {},
   "outputs": [
    {
     "data": {
      "text/plain": [
       "array(['What text do you prefer?',\n",
       "       'What is the quality of the headphone?',\n",
       "       'What shipping is more great on amazon?'], dtype=object)"
      ]
     },
     "execution_count": 10,
     "metadata": {},
     "output_type": "execute_result"
    }
   ],
   "source": [
    "# Print random 3 questions of the dataframe dfs where the question starts with the word \"What\"\n",
    "dfs['train'][dfs['train']['question'].str.startswith(\"What\")].sample(3)[\"question\"].values"
   ]
  },
  {
   "cell_type": "code",
   "execution_count": 11,
   "metadata": {},
   "outputs": [
    {
     "data": {
      "text/plain": [
       "array(['How is the battery life?', 'How was the material?',\n",
       "       'How is the pan?'], dtype=object)"
      ]
     },
     "execution_count": 11,
     "metadata": {},
     "output_type": "execute_result"
    }
   ],
   "source": [
    "# Print random 3 questions of the dataframe dfs where the question starts with the word \"How\"\n",
    "dfs['train'][dfs['train']['question'].str.startswith(\"How\")].sample(3)[\"question\"].values\n"
   ]
  },
  {
   "cell_type": "code",
   "execution_count": 12,
   "metadata": {},
   "outputs": [
    {
     "data": {
      "text/plain": [
       "array(['Is this phome comes with a charger?', 'Is it a good room?',\n",
       "       'Is the remote great?'], dtype=object)"
      ]
     },
     "execution_count": 12,
     "metadata": {},
     "output_type": "execute_result"
    }
   ],
   "source": [
    "# Print random 3 questions of the dataframe dfs where the question starts with the word \"is\"\n",
    "dfs['train'][dfs['train']['question'].str.startswith(\"Is\")].sample(3)[\"question\"].values"
   ]
  },
  {
   "cell_type": "code",
   "execution_count": 13,
   "metadata": {},
   "outputs": [
    {
     "data": {
      "image/png": "[encoded data removed]",
      "text/plain": [
       "<Figure size 640x480 with 1 Axes>"
      ]
     },
     "metadata": {},
     "output_type": "display_data"
    }
   ],
   "source": [
    "# Plot a histogram of the numbers of unique review_id for each title in dfs['train']\n",
    "dfs['train']['title'].value_counts().hist(bins=50)\n",
    "plt.show()"
   ]
  },
  {
   "cell_type": "markdown",
   "metadata": {},
   "source": [
    "Majority of the products have only one review"
   ]
  },
  {
   "cell_type": "markdown",
   "metadata": {},
   "source": [
    "## Extracting the Answers from Context\n",
    "\n",
    "The most common way to extract answers from text is by framing the problem as a span classification task,\n",
    "where the start and end tokens of an answer span act as the labels that a model needs to predict. \n"
   ]
  },
  {
   "cell_type": "code",
   "execution_count": 14,
   "metadata": {},
   "outputs": [],
   "source": [
    "from transformers import AutoTokenizer\n",
    "\n",
    "model_name = \"deepset/minilm-uncased-squad2\"\n",
    "tokenizer = AutoTokenizer.from_pretrained(model_name)"
   ]
  },
  {
   "cell_type": "code",
   "execution_count": 15,
   "metadata": {},
   "outputs": [],
   "source": [
    "question = \"How much music can this hold?\"\n",
    "context = \"\"\"An MP3 is about 1 MB/minute, so about 6000 hours depending on \\\n",
    "file size.\"\"\"\n",
    "\n",
    "inputs = tokenizer(question, context, return_tensors=\"pt\")"
   ]
  },
  {
   "cell_type": "code",
   "execution_count": 16,
   "metadata": {},
   "outputs": [
    {
     "data": {
      "text/plain": [
       "'[CLS] how much music can this hold? [SEP] an mp3 is about 1 mb / minute, so about 6000 hours depending on file size. [SEP]'"
      ]
     },
     "execution_count": 16,
     "metadata": {},
     "output_type": "execute_result"
    }
   ],
   "source": [
    "tokenizer.decode(inputs[\"input_ids\"][0])"
   ]
  },
  {
   "cell_type": "code",
   "execution_count": 17,
   "metadata": {},
   "outputs": [],
   "source": [
    "from transformers import AutoModelForQuestionAnswering\n",
    "\n",
    "model = AutoModelForQuestionAnswering.from_pretrained(model_name)\n",
    "outputs = model(**inputs)"
   ]
  },
  {
   "cell_type": "code",
   "execution_count": 18,
   "metadata": {},
   "outputs": [],
   "source": [
    "start_scores, end_scores = outputs[\"start_logits\"], outputs[\"end_logits\"]"
   ]
  },
  {
   "cell_type": "code",
   "execution_count": 19,
   "metadata": {},
   "outputs": [
    {
     "data": {
      "text/plain": [
       "tensor([[-0.9862, -4.7750, -5.4025, -5.2378, -5.2863, -5.5117, -4.9819, -6.1880,\n",
       "         -0.9862,  0.2596, -0.2144, -1.7136,  3.7806,  4.8561, -1.0546, -3.9097,\n",
       "         -1.7374, -4.5944, -1.4278,  3.9949,  5.0391, -0.2018, -3.0193, -4.8549,\n",
       "         -2.3107, -3.5110, -3.5713, -0.9862]], grad_fn=<CopyBackwards>)"
      ]
     },
     "execution_count": 19,
     "metadata": {},
     "output_type": "execute_result"
    }
   ],
   "source": [
    "\n",
    "start_scores"
   ]
  },
  {
   "cell_type": "code",
   "execution_count": 20,
   "metadata": {},
   "outputs": [
    {
     "name": "stdout",
     "output_type": "stream",
     "text": [
      "Context: An MP3 is about 1 MB/minute, so about 6000 hours depending on file size.\n",
      "Question: How much music can this hold?\n",
      "Answer: 6000 hours\n"
     ]
    }
   ],
   "source": [
    "import torch\n",
    "## Get the start and end index from the start_scores and end_scores\n",
    "start_idx = torch.argmax(start_scores)\n",
    "end_idx = torch.argmax(end_scores)\n",
    "\n",
    "# Extract the span using the start_idx and end_idx from the inputs\n",
    "span = tokenizer.decode(inputs[\"input_ids\"][0][start_idx:end_idx+1])\n",
    "print(f\"Context: {context}\")\n",
    "print(f\"Question: {question}\")\n",
    "print(f\"Answer: {span}\")"
   ]
  },
  {
   "cell_type": "code",
   "execution_count": 21,
   "metadata": {},
   "outputs": [
    {
     "data": {
      "text/plain": [
       "[{'score': 0.26516106724739075,\n",
       "  'start': 38,\n",
       "  'end': 48,\n",
       "  'answer': '6000 hours'},\n",
       " {'score': 0.220829576253891,\n",
       "  'start': 16,\n",
       "  'end': 48,\n",
       "  'answer': '1 MB/minute, so about 6000 hours'},\n",
       " {'score': 0.10253562033176422,\n",
       "  'start': 16,\n",
       "  'end': 27,\n",
       "  'answer': '1 MB/minute'}]"
      ]
     },
     "execution_count": 21,
     "metadata": {},
     "output_type": "execute_result"
    }
   ],
   "source": [
    "# Extract using QA Pipeline\n",
    "from transformers import QuestionAnsweringPipeline\n",
    "\n",
    "pipe = QuestionAnsweringPipeline(model=model, tokenizer=tokenizer)\n",
    "pipe(question, context,topk=3)"
   ]
  },
  {
   "cell_type": "code",
   "execution_count": 22,
   "metadata": {},
   "outputs": [
    {
     "data": {
      "text/plain": [
       "{'score': 0.9068416953086853, 'start': 0, 'end': 0, 'answer': ''}"
      ]
     },
     "execution_count": 22,
     "metadata": {},
     "output_type": "execute_result"
    }
   ],
   "source": [
    "# Handle Impossible answers\n",
    "pipe(question=\"Why is there no data?\", context=context,handle_impossible_answer=True)"
   ]
  },
  {
   "cell_type": "code",
   "execution_count": null,
   "metadata": {},
   "outputs": [],
   "source": []
  }
 ],
 "metadata": {
  "interpreter": {
   "hash": "a447bb19d79f3db2674aacc85e780e48e431a75fa5f05809ae9b8d2d81dec273"
  },
  "kernelspec": {
   "display_name": "Python 3.7.11 64-bit ('nlp': conda)",
   "language": "python",
   "name": "python3"
  },
  "language_info": {
   "codemirror_mode": {
    "name": "ipython",
    "version": 3
   },
   "file_extension": ".py",
   "mimetype": "text/x-python",
   "name": "python",
   "nbconvert_exporter": "python",
   "pygments_lexer": "ipython3",
   "version": "3.7.11"
  },
  "orig_nbformat": 4
 },
 "nbformat": 4,
 "nbformat_minor": 2
}
